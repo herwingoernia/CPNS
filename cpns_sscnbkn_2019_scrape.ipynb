{
 "cells": [
  {
   "cell_type": "markdown",
   "metadata": {},
   "source": [
    "# **CPNS 2019** "
   ]
  },
  {
   "cell_type": "code",
   "execution_count": 1,
   "metadata": {},
   "outputs": [],
   "source": [
    "# import library\n",
    "import requests\n",
    "import json \n",
    "import pandas as pd\n",
    "import numpy as np\n",
    "import time"
   ]
  },
  {
   "cell_type": "markdown",
   "metadata": {},
   "source": [
    "### **User Agent**"
   ]
  },
  {
   "cell_type": "code",
   "execution_count": 2,
   "metadata": {},
   "outputs": [],
   "source": [
    "UA= \"Mozilla/5.0 (Macintosh; InterruptedErrorel Mac OS X 10_13_6) AppleWebKit/537.36 (KHTML, like Gecko) Chrome/76.0.3809.100 Safari/537.36\"\n",
    "headers = {\"User-Agent\": UA}"
   ]
  },
  {
   "cell_type": "markdown",
   "metadata": {},
   "source": [
    "### **URL SSCN BKN**"
   ]
  },
  {
   "cell_type": "code",
   "execution_count": 3,
   "metadata": {},
   "outputs": [],
   "source": [
    "url = \"https://sscndata.bkn.go.id/spf\" # method post\n",
    "parameters = '{\"draw\":1,\"columns\":[{\"data\":\"insNm\",\"name\":\"\",\"searchable\":true,\"orderable\":false,\"search\":{\"value\":\"\",\"regex\":false}},{\"data\":\"jabNm\",\"name\":\"\",\"searchable\":true,\"orderable\":false,\"search\":{\"value\":\"\",\"regex\":false}},{\"data\":\"lokasiNm\",\"name\":\"\",\"searchable\":true,\"orderable\":false,\"search\":{\"value\":\"\",\"regex\":false}},{\"data\":\"pendidikanNm\",\"name\":\"\",\"searchable\":true,\"orderable\":false,\"search\":{\"value\":\"\",\"regex\":false}},{\"data\":\"jenisFormasiNm\",\"name\":\"\",\"searchable\":true,\"orderable\":false,\"search\":{\"value\":\"\",\"regex\":false}},{\"data\":\"jumlahFormasi\",\"name\":\"\",\"searchable\":false,\"orderable\":false,\"search\":{\"value\":\"\",\"regex\":false}},{\"data\":\"jumlahSubmit\",\"name\":\"\",\"searchable\":false,\"orderable\":false,\"search\":{\"value\":\"\",\"regex\":false}}],\"order\":[{\"column\":0,\"dir\":\"asc\"}],\"start\":0,\"length\":10,\"search\":{\"value\":\"\",\"regex\":false}}'\n",
    "\n",
    "# parameters for fetch the data\n",
    "def params_rows(draw=1, start=0, rows=200):\n",
    "    data_json = json.loads(parameters)\n",
    "    data_json['draw']=draw\n",
    "    data_json['start']=start\n",
    "    data_json['length']=rows\n",
    "    return data_json"
   ]
  },
  {
   "cell_type": "markdown",
   "metadata": {},
   "source": [
    "### **Get the Information about Total Rows**"
   ]
  },
  {
   "cell_type": "code",
   "execution_count": 4,
   "metadata": {},
   "outputs": [
    {
     "name": "stdout",
     "output_type": "stream",
     "text": [
      "108209\n",
      "11\n"
     ]
    }
   ],
   "source": [
    "# set parameters\n",
    "params = params_rows(draw=1, start=0, rows=1)\n",
    "\n",
    "# get the total rows\n",
    "rs = requests.post(url, json=params, headers=headers)\n",
    "rs_total = json.loads(rs.text)['recordsTotal']\n",
    "print(rs_total)\n",
    "\n",
    "# set range for looping\n",
    "rs_rows = 10000\n",
    "range_loop = np.ceil(rs_total/rs_rows).astype(int)\n",
    "print(range_loop)"
   ]
  },
  {
   "cell_type": "markdown",
   "metadata": {},
   "source": [
    "### **Fetch the data**"
   ]
  },
  {
   "cell_type": "code",
   "execution_count": 5,
   "metadata": {},
   "outputs": [
    {
     "name": "stdout",
     "output_type": "stream",
     "text": [
      "(10000, 8)\n",
      "(10000, 8)\n",
      "(10000, 8)\n",
      "(10000, 8)\n",
      "(10000, 8)\n",
      "(10000, 8)\n",
      "(10000, 8)\n",
      "(10000, 8)\n",
      "(10000, 8)\n",
      "(10000, 8)\n",
      "(8209, 8)\n"
     ]
    }
   ],
   "source": [
    "cols = ['insKd','insNm','jabNm','jenisFormasiNm','jumlahFormasi','jumlahSubmit','lokasiNm','pendidikanNm']\n",
    "df_final = pd.DataFrame(columns=cols) \n",
    "j=0\n",
    "for i in range(range_loop):\n",
    "    params = params_rows(draw=1, start=j, rows=rs_rows)\n",
    "    j = j+rs_rows # will use for start row in every url\n",
    "    rs = requests.post(url, json=params)\n",
    "    rs = json.loads(rs.text)['data']\n",
    "    result = pd.DataFrame(eval(json.dumps(rs)))\n",
    "    print(result.shape)\n",
    "    df_final = pd.concat([df_final,result],ignore_index=True).drop_duplicates().reset_index(drop=True)\n",
    "    time.sleep(5)"
   ]
  },
  {
   "cell_type": "code",
   "execution_count": 6,
   "metadata": {},
   "outputs": [
    {
     "data": {
      "text/html": [
       "<div>\n",
       "<style scoped>\n",
       "    .dataframe tbody tr th:only-of-type {\n",
       "        vertical-align: middle;\n",
       "    }\n",
       "\n",
       "    .dataframe tbody tr th {\n",
       "        vertical-align: top;\n",
       "    }\n",
       "\n",
       "    .dataframe thead th {\n",
       "        text-align: right;\n",
       "    }\n",
       "</style>\n",
       "<table border=\"1\" class=\"dataframe\">\n",
       "  <thead>\n",
       "    <tr style=\"text-align: right;\">\n",
       "      <th></th>\n",
       "      <th>insKd</th>\n",
       "      <th>insNm</th>\n",
       "      <th>jabNm</th>\n",
       "      <th>jenisFormasiNm</th>\n",
       "      <th>jumlahFormasi</th>\n",
       "      <th>jumlahSubmit</th>\n",
       "      <th>lokasiNm</th>\n",
       "      <th>pendidikanNm</th>\n",
       "    </tr>\n",
       "  </thead>\n",
       "  <tbody>\n",
       "    <tr>\n",
       "      <th>0</th>\n",
       "      <td>5473</td>\n",
       "      <td>Pemerintah Kota Sawahlunto</td>\n",
       "      <td>PELAKSANA/TERAMPIL - ASISTEN APOTEKER</td>\n",
       "      <td>PENYANDANG DISABILITAS</td>\n",
       "      <td>1</td>\n",
       "      <td>0</td>\n",
       "      <td>RUMAH SAKIT UMUM DAERAH (RSUD), SEKSI PENUNJAN...</td>\n",
       "      <td>D-III FARMASI</td>\n",
       "    </tr>\n",
       "    <tr>\n",
       "      <th>1</th>\n",
       "      <td>3013</td>\n",
       "      <td>Kementerian Ketenagakerjaan</td>\n",
       "      <td>AHLI PERTAMA - ARSIPARIS</td>\n",
       "      <td>UMUM</td>\n",
       "      <td>2</td>\n",
       "      <td>229</td>\n",
       "      <td>SEKRETARIAT JENDERAL, BIRO PERENCANAAN DAN MAN...</td>\n",
       "      <td>S-1 ADMINISTRASI / S-1 ADMINISTRASI PERKANTORA...</td>\n",
       "    </tr>\n",
       "    <tr>\n",
       "      <th>2</th>\n",
       "      <td>3013</td>\n",
       "      <td>Kementerian Ketenagakerjaan</td>\n",
       "      <td>ANALIS BAHAN PENYELENGGARAAN PROGRAM PEMAGANGAN</td>\n",
       "      <td>UMUM</td>\n",
       "      <td>1</td>\n",
       "      <td>99</td>\n",
       "      <td>DIREKTORAT JENDERAL PEMBINAAN PELATIHAN DAN PR...</td>\n",
       "      <td>S-1 ADMINISTRASI / S-1 HUBUNGAN INTERNASIONAL ...</td>\n",
       "    </tr>\n",
       "    <tr>\n",
       "      <th>3</th>\n",
       "      <td>3013</td>\n",
       "      <td>Kementerian Ketenagakerjaan</td>\n",
       "      <td>PELAKSANA/TERAMPIL - ARSIPARIS</td>\n",
       "      <td>UMUM</td>\n",
       "      <td>1</td>\n",
       "      <td>42</td>\n",
       "      <td>DIREKTORAT JENDERAL PEMBINAAN PELATIHAN DAN PR...</td>\n",
       "      <td>D-III ADMINISTRASI / D-III ADMINISTRASI PERKAN...</td>\n",
       "    </tr>\n",
       "    <tr>\n",
       "      <th>4</th>\n",
       "      <td>3013</td>\n",
       "      <td>Kementerian Ketenagakerjaan</td>\n",
       "      <td>ANALIS ADVOKASI HUKUM</td>\n",
       "      <td>UMUM</td>\n",
       "      <td>1</td>\n",
       "      <td>26</td>\n",
       "      <td>SEKRETARIAT JENDERAL, BIRO HUKUM</td>\n",
       "      <td>S-1 HUKUM</td>\n",
       "    </tr>\n",
       "  </tbody>\n",
       "</table>\n",
       "</div>"
      ],
      "text/plain": [
       "  insKd                        insNm  \\\n",
       "0  5473   Pemerintah Kota Sawahlunto   \n",
       "1  3013  Kementerian Ketenagakerjaan   \n",
       "2  3013  Kementerian Ketenagakerjaan   \n",
       "3  3013  Kementerian Ketenagakerjaan   \n",
       "4  3013  Kementerian Ketenagakerjaan   \n",
       "\n",
       "                                             jabNm          jenisFormasiNm  \\\n",
       "0            PELAKSANA/TERAMPIL - ASISTEN APOTEKER  PENYANDANG DISABILITAS   \n",
       "1                         AHLI PERTAMA - ARSIPARIS                    UMUM   \n",
       "2  ANALIS BAHAN PENYELENGGARAAN PROGRAM PEMAGANGAN                    UMUM   \n",
       "3                   PELAKSANA/TERAMPIL - ARSIPARIS                    UMUM   \n",
       "4                            ANALIS ADVOKASI HUKUM                    UMUM   \n",
       "\n",
       "  jumlahFormasi jumlahSubmit  \\\n",
       "0             1            0   \n",
       "1             2          229   \n",
       "2             1           99   \n",
       "3             1           42   \n",
       "4             1           26   \n",
       "\n",
       "                                            lokasiNm  \\\n",
       "0  RUMAH SAKIT UMUM DAERAH (RSUD), SEKSI PENUNJAN...   \n",
       "1  SEKRETARIAT JENDERAL, BIRO PERENCANAAN DAN MAN...   \n",
       "2  DIREKTORAT JENDERAL PEMBINAAN PELATIHAN DAN PR...   \n",
       "3  DIREKTORAT JENDERAL PEMBINAAN PELATIHAN DAN PR...   \n",
       "4                   SEKRETARIAT JENDERAL, BIRO HUKUM   \n",
       "\n",
       "                                        pendidikanNm  \n",
       "0                                      D-III FARMASI  \n",
       "1  S-1 ADMINISTRASI / S-1 ADMINISTRASI PERKANTORA...  \n",
       "2  S-1 ADMINISTRASI / S-1 HUBUNGAN INTERNASIONAL ...  \n",
       "3  D-III ADMINISTRASI / D-III ADMINISTRASI PERKAN...  \n",
       "4                                          S-1 HUKUM  "
      ]
     },
     "execution_count": 6,
     "metadata": {},
     "output_type": "execute_result"
    }
   ],
   "source": [
    "df_final.head(5)"
   ]
  },
  {
   "cell_type": "code",
   "execution_count": 7,
   "metadata": {},
   "outputs": [],
   "source": [
    "df_final.to_csv(\"cpns_2019.csv\", encoding='utf-8',index=False)"
   ]
  }
 ],
 "metadata": {
  "kernelspec": {
   "display_name": "Python 3",
   "language": "python",
   "name": "python3"
  },
  "language_info": {
   "codemirror_mode": {
    "name": "ipython",
    "version": 3
   },
   "file_extension": ".py",
   "mimetype": "text/x-python",
   "name": "python",
   "nbconvert_exporter": "python",
   "pygments_lexer": "ipython3",
   "version": "3.7.3"
  }
 },
 "nbformat": 4,
 "nbformat_minor": 4
}
