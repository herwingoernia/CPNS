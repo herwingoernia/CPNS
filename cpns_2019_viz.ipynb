{
 "cells": [
  {
   "cell_type": "code",
   "execution_count": 13,
   "metadata": {},
   "outputs": [],
   "source": [
    "# import library\n",
    "import pandas as pd\n",
    "import numpy as np\n",
    "import re\n",
    "import matplotlib.pyplot as plt "
   ]
  },
  {
   "cell_type": "code",
   "execution_count": 14,
   "metadata": {},
   "outputs": [],
   "source": [
    "# load the data\n",
    "df = pd.read_csv(\"cpns_2019.csv\")"
   ]
  },
  {
   "cell_type": "code",
   "execution_count": 15,
   "metadata": {},
   "outputs": [
    {
     "data": {
      "text/plain": [
       "insNm     522\n",
       "jabNm    2201\n",
       "dtype: int64"
      ]
     },
     "execution_count": 15,
     "metadata": {},
     "output_type": "execute_result"
    }
   ],
   "source": [
    "# check total rows by instansi dan jabatan\n",
    "df[['insNm','jabNm']].nunique()"
   ]
  },
  {
   "cell_type": "code",
   "execution_count": 16,
   "metadata": {},
   "outputs": [
    {
     "data": {
      "text/html": [
       "<div>\n",
       "<style scoped>\n",
       "    .dataframe tbody tr th:only-of-type {\n",
       "        vertical-align: middle;\n",
       "    }\n",
       "\n",
       "    .dataframe tbody tr th {\n",
       "        vertical-align: top;\n",
       "    }\n",
       "\n",
       "    .dataframe thead th {\n",
       "        text-align: right;\n",
       "    }\n",
       "</style>\n",
       "<table border=\"1\" class=\"dataframe\">\n",
       "  <thead>\n",
       "    <tr style=\"text-align: right;\">\n",
       "      <th></th>\n",
       "      <th>jumlahFormasi</th>\n",
       "      <th>jumlahSubmit</th>\n",
       "      <th>jabNm</th>\n",
       "    </tr>\n",
       "    <tr>\n",
       "      <th>jenisFormasiNm</th>\n",
       "      <th></th>\n",
       "      <th></th>\n",
       "      <th></th>\n",
       "    </tr>\n",
       "  </thead>\n",
       "  <tbody>\n",
       "    <tr>\n",
       "      <th>DIASPORA</th>\n",
       "      <td>9</td>\n",
       "      <td>5</td>\n",
       "      <td>8</td>\n",
       "    </tr>\n",
       "    <tr>\n",
       "      <th>DIASPORA (DAPAT DIISI DISABILITAS)</th>\n",
       "      <td>93</td>\n",
       "      <td>12</td>\n",
       "      <td>3</td>\n",
       "    </tr>\n",
       "    <tr>\n",
       "      <th>LULUSAN TERBAIK</th>\n",
       "      <td>3581</td>\n",
       "      <td>19120</td>\n",
       "      <td>2191</td>\n",
       "    </tr>\n",
       "    <tr>\n",
       "      <th>LULUSAN TERBAIK (DAPAT DIISI DISABILITAS)</th>\n",
       "      <td>732</td>\n",
       "      <td>4059</td>\n",
       "      <td>363</td>\n",
       "    </tr>\n",
       "    <tr>\n",
       "      <th>PENYANDANG DISABILITAS</th>\n",
       "      <td>2580</td>\n",
       "      <td>1865</td>\n",
       "      <td>2285</td>\n",
       "    </tr>\n",
       "    <tr>\n",
       "      <th>PUTRA/PUTRI PAPUA DAN PAPUA BARAT</th>\n",
       "      <td>398</td>\n",
       "      <td>3724</td>\n",
       "      <td>133</td>\n",
       "    </tr>\n",
       "    <tr>\n",
       "      <th>PUTRA/PUTRI PAPUA DAN PAPUA BARAT (DAPAT DIISI DISABILITAS)</th>\n",
       "      <td>53</td>\n",
       "      <td>203</td>\n",
       "      <td>32</td>\n",
       "    </tr>\n",
       "    <tr>\n",
       "      <th>TENAGA CYBER</th>\n",
       "      <td>626</td>\n",
       "      <td>2156</td>\n",
       "      <td>4</td>\n",
       "    </tr>\n",
       "    <tr>\n",
       "      <th>UMUM</th>\n",
       "      <td>120122</td>\n",
       "      <td>3590323</td>\n",
       "      <td>89494</td>\n",
       "    </tr>\n",
       "    <tr>\n",
       "      <th>UMUM (DAPAT DIISI DISABILITAS)</th>\n",
       "      <td>22106</td>\n",
       "      <td>575706</td>\n",
       "      <td>13681</td>\n",
       "    </tr>\n",
       "  </tbody>\n",
       "</table>\n",
       "</div>"
      ],
      "text/plain": [
       "                                                    jumlahFormasi  \\\n",
       "jenisFormasiNm                                                      \n",
       "DIASPORA                                                        9   \n",
       "DIASPORA (DAPAT DIISI DISABILITAS)                             93   \n",
       "LULUSAN TERBAIK                                              3581   \n",
       "LULUSAN TERBAIK (DAPAT DIISI DISABILITAS)                     732   \n",
       "PENYANDANG DISABILITAS                                       2580   \n",
       "PUTRA/PUTRI PAPUA DAN PAPUA BARAT                             398   \n",
       "PUTRA/PUTRI PAPUA DAN PAPUA BARAT (DAPAT DIISI ...             53   \n",
       "TENAGA CYBER                                                  626   \n",
       "UMUM                                                       120122   \n",
       "UMUM (DAPAT DIISI DISABILITAS)                              22106   \n",
       "\n",
       "                                                    jumlahSubmit  jabNm  \n",
       "jenisFormasiNm                                                           \n",
       "DIASPORA                                                       5      8  \n",
       "DIASPORA (DAPAT DIISI DISABILITAS)                            12      3  \n",
       "LULUSAN TERBAIK                                            19120   2191  \n",
       "LULUSAN TERBAIK (DAPAT DIISI DISABILITAS)                   4059    363  \n",
       "PENYANDANG DISABILITAS                                      1865   2285  \n",
       "PUTRA/PUTRI PAPUA DAN PAPUA BARAT                           3724    133  \n",
       "PUTRA/PUTRI PAPUA DAN PAPUA BARAT (DAPAT DIISI ...           203     32  \n",
       "TENAGA CYBER                                                2156      4  \n",
       "UMUM                                                     3590323  89494  \n",
       "UMUM (DAPAT DIISI DISABILITAS)                            575706  13681  "
      ]
     },
     "execution_count": 16,
     "metadata": {},
     "output_type": "execute_result"
    }
   ],
   "source": [
    "# grouping by jenis formasi\n",
    "aggregat = {\n",
    "    'jumlahFormasi':sum,\n",
    "    'jumlahSubmit':sum,\n",
    "    'jabNm':'count'\n",
    "}\n",
    "df.groupby('jenisFormasiNm').agg(aggregat)"
   ]
  },
  {
   "cell_type": "markdown",
   "metadata": {},
   "source": [
    "### **Menambahkan Group Instansi**"
   ]
  },
  {
   "cell_type": "code",
   "execution_count": 17,
   "metadata": {},
   "outputs": [
    {
     "data": {
      "text/plain": [
       "grp\n",
       "Arsip              18\n",
       "Badan            1625\n",
       "Kejaksaan          41\n",
       "Kementerian     12229\n",
       "Kepolisian        175\n",
       "Lembaga           212\n",
       "Mahkamah           24\n",
       "Ombudsman          86\n",
       "Pemerintah      93636\n",
       "Perpustakaan       37\n",
       "Sekretariat        56\n",
       "Setjen             55\n",
       "Name: grp, dtype: int64"
      ]
     },
     "execution_count": 17,
     "metadata": {},
     "output_type": "execute_result"
    }
   ],
   "source": [
    "row_list = []\n",
    "for i,j in df.iterrows():\n",
    "    y = re.split(\"\\s\",j['insNm'])\n",
    "    row_list.append(y[0])\n",
    "\n",
    "tmp = pd.DataFrame(row_list, columns=['grp'])\n",
    "tmp.groupby('grp')['grp'].count()"
   ]
  },
  {
   "cell_type": "code",
   "execution_count": 20,
   "metadata": {},
   "outputs": [
    {
     "data": {
      "text/plain": [
       "array(['Setjen Komisi Pemilihan Umum', 'Setjen KOMNAS HAM'], dtype=object)"
      ]
     },
     "execution_count": 20,
     "metadata": {},
     "output_type": "execute_result"
    }
   ],
   "source": [
    "# searching like '%'\n",
    "df[df['insNm'].str.contains('(?i)Setjen')]['insNm'].unique()"
   ]
  },
  {
   "cell_type": "code",
   "execution_count": 22,
   "metadata": {},
   "outputs": [
    {
     "data": {
      "text/plain": [
       "insGrp\n",
       "Arsip              18\n",
       "Kejaksaan          41\n",
       "Kementerian     12229\n",
       "Kepolisian        175\n",
       "Lembaga          1892\n",
       "Mahkamah           24\n",
       "Ombudsman          86\n",
       "Pemerintah      93636\n",
       "Perpustakaan       37\n",
       "Sekretariat        56\n",
       "Name: insGrp, dtype: int64"
      ]
     },
     "execution_count": 22,
     "metadata": {},
     "output_type": "execute_result"
    }
   ],
   "source": [
    "# Mengubah group instansi \"Badan\" dan \"Setjen\" menjadi \"Lembaga\"\n",
    "tmp['insGrp'] = tmp['grp'].apply(lambda x: 'Lembaga' if (x == 'Badan' or x=='Setjen') else x)\n",
    "tmp.groupby('insGrp')['insGrp'].count()"
   ]
  },
  {
   "cell_type": "code",
   "execution_count": 19,
   "metadata": {},
   "outputs": [],
   "source": [
    "df_add_grp_inst = pd.concat([df.reset_index(drop=True),tmp[['insGrp']]], axis=1)"
   ]
  },
  {
   "cell_type": "code",
   "execution_count": 23,
   "metadata": {},
   "outputs": [
    {
     "data": {
      "text/html": [
       "<div>\n",
       "<style scoped>\n",
       "    .dataframe tbody tr th:only-of-type {\n",
       "        vertical-align: middle;\n",
       "    }\n",
       "\n",
       "    .dataframe tbody tr th {\n",
       "        vertical-align: top;\n",
       "    }\n",
       "\n",
       "    .dataframe thead th {\n",
       "        text-align: right;\n",
       "    }\n",
       "</style>\n",
       "<table border=\"1\" class=\"dataframe\">\n",
       "  <thead>\n",
       "    <tr style=\"text-align: right;\">\n",
       "      <th></th>\n",
       "      <th>jumlahFormasi</th>\n",
       "      <th>jumlahSubmit</th>\n",
       "      <th>jabNm</th>\n",
       "    </tr>\n",
       "    <tr>\n",
       "      <th>insGrp</th>\n",
       "      <th></th>\n",
       "      <th></th>\n",
       "      <th></th>\n",
       "    </tr>\n",
       "  </thead>\n",
       "  <tbody>\n",
       "    <tr>\n",
       "      <th>Arsip</th>\n",
       "      <td>71</td>\n",
       "      <td>2336</td>\n",
       "      <td>18</td>\n",
       "    </tr>\n",
       "    <tr>\n",
       "      <th>Kejaksaan</th>\n",
       "      <td>5203</td>\n",
       "      <td>78332</td>\n",
       "      <td>41</td>\n",
       "    </tr>\n",
       "    <tr>\n",
       "      <th>Kementerian</th>\n",
       "      <td>23564</td>\n",
       "      <td>1311490</td>\n",
       "      <td>12229</td>\n",
       "    </tr>\n",
       "    <tr>\n",
       "      <th>Kepolisian</th>\n",
       "      <td>554</td>\n",
       "      <td>4551</td>\n",
       "      <td>175</td>\n",
       "    </tr>\n",
       "    <tr>\n",
       "      <th>Lembaga</th>\n",
       "      <td>5211</td>\n",
       "      <td>120202</td>\n",
       "      <td>1892</td>\n",
       "    </tr>\n",
       "    <tr>\n",
       "      <th>Mahkamah</th>\n",
       "      <td>2104</td>\n",
       "      <td>58320</td>\n",
       "      <td>24</td>\n",
       "    </tr>\n",
       "    <tr>\n",
       "      <th>Ombudsman</th>\n",
       "      <td>91</td>\n",
       "      <td>1952</td>\n",
       "      <td>86</td>\n",
       "    </tr>\n",
       "    <tr>\n",
       "      <th>Pemerintah</th>\n",
       "      <td>113365</td>\n",
       "      <td>2616402</td>\n",
       "      <td>93636</td>\n",
       "    </tr>\n",
       "    <tr>\n",
       "      <th>Perpustakaan</th>\n",
       "      <td>57</td>\n",
       "      <td>2542</td>\n",
       "      <td>37</td>\n",
       "    </tr>\n",
       "    <tr>\n",
       "      <th>Sekretariat</th>\n",
       "      <td>80</td>\n",
       "      <td>1046</td>\n",
       "      <td>56</td>\n",
       "    </tr>\n",
       "  </tbody>\n",
       "</table>\n",
       "</div>"
      ],
      "text/plain": [
       "              jumlahFormasi  jumlahSubmit  jabNm\n",
       "insGrp                                          \n",
       "Arsip                    71          2336     18\n",
       "Kejaksaan              5203         78332     41\n",
       "Kementerian           23564       1311490  12229\n",
       "Kepolisian              554          4551    175\n",
       "Lembaga                5211        120202   1892\n",
       "Mahkamah               2104         58320     24\n",
       "Ombudsman                91          1952     86\n",
       "Pemerintah           113365       2616402  93636\n",
       "Perpustakaan             57          2542     37\n",
       "Sekretariat              80          1046     56"
      ]
     },
     "execution_count": 23,
     "metadata": {},
     "output_type": "execute_result"
    }
   ],
   "source": [
    "df_add_grp_inst.groupby('insGrp').agg(aggregat)"
   ]
  },
  {
   "cell_type": "code",
   "execution_count": 24,
   "metadata": {},
   "outputs": [],
   "source": [
    "df_add_grp_inst.to_csv(\"cpns_2019_clean.csv\", encoding='utf-8',index=False)"
   ]
  }
 ],
 "metadata": {
  "kernelspec": {
   "display_name": "Python 3",
   "language": "python",
   "name": "python3"
  },
  "language_info": {
   "codemirror_mode": {
    "name": "ipython",
    "version": 3
   },
   "file_extension": ".py",
   "mimetype": "text/x-python",
   "name": "python",
   "nbconvert_exporter": "python",
   "pygments_lexer": "ipython3",
   "version": "3.7.3"
  }
 },
 "nbformat": 4,
 "nbformat_minor": 4
}
